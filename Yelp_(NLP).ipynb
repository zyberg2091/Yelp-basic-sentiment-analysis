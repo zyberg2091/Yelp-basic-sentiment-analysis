{
  "nbformat": 4,
  "nbformat_minor": 0,
  "metadata": {
    "colab": {
      "name": "Yelp (NLP)",
      "provenance": [],
      "collapsed_sections": [],
      "mount_file_id": "1zUrShP1EtrzAnfEHcFC0JzbPKb1Zy0gD",
      "authorship_tag": "ABX9TyPGWY+4CgEu/8TGjnybdL+n",
      "include_colab_link": true
    },
    "kernelspec": {
      "name": "python3",
      "display_name": "Python 3"
    }
  },
  "cells": [
    {
      "cell_type": "markdown",
      "metadata": {
        "id": "view-in-github",
        "colab_type": "text"
      },
      "source": [
        "<a href=\"https://colab.research.google.com/github/zyberg2091/Yelp-sentiment-analysis/blob/master/Yelp_(NLP).ipynb\" target=\"_parent\"><img src=\"https://colab.research.google.com/assets/colab-badge.svg\" alt=\"Open In Colab\"/></a>"
      ]
    },
    {
      "cell_type": "code",
      "metadata": {
        "id": "JnlJKTMPMg3A",
        "colab": {
          "base_uri": "https://localhost:8080/"
        },
        "outputId": "b3cb6741-d476-49d9-d5f2-07434a9a7973"
      },
      "source": [
        "!pip install kaggle"
      ],
      "execution_count": 1,
      "outputs": [
        {
          "output_type": "stream",
          "text": [
            "Requirement already satisfied: kaggle in /usr/local/lib/python3.6/dist-packages (1.5.10)\n",
            "Requirement already satisfied: requests in /usr/local/lib/python3.6/dist-packages (from kaggle) (2.23.0)\n",
            "Requirement already satisfied: six>=1.10 in /usr/local/lib/python3.6/dist-packages (from kaggle) (1.15.0)\n",
            "Requirement already satisfied: urllib3 in /usr/local/lib/python3.6/dist-packages (from kaggle) (1.24.3)\n",
            "Requirement already satisfied: certifi in /usr/local/lib/python3.6/dist-packages (from kaggle) (2020.12.5)\n",
            "Requirement already satisfied: python-slugify in /usr/local/lib/python3.6/dist-packages (from kaggle) (4.0.1)\n",
            "Requirement already satisfied: python-dateutil in /usr/local/lib/python3.6/dist-packages (from kaggle) (2.8.1)\n",
            "Requirement already satisfied: tqdm in /usr/local/lib/python3.6/dist-packages (from kaggle) (4.41.1)\n",
            "Requirement already satisfied: idna<3,>=2.5 in /usr/local/lib/python3.6/dist-packages (from requests->kaggle) (2.10)\n",
            "Requirement already satisfied: chardet<4,>=3.0.2 in /usr/local/lib/python3.6/dist-packages (from requests->kaggle) (3.0.4)\n",
            "Requirement already satisfied: text-unidecode>=1.3 in /usr/local/lib/python3.6/dist-packages (from python-slugify->kaggle) (1.3)\n"
          ],
          "name": "stdout"
        }
      ]
    },
    {
      "cell_type": "code",
      "metadata": {
        "id": "IDmeyr2LNBG7"
      },
      "source": [
        "!mkdir .kaggle"
      ],
      "execution_count": 2,
      "outputs": []
    },
    {
      "cell_type": "code",
      "metadata": {
        "id": "CQNaGxvrNj0q"
      },
      "source": [
        "!cp /content/drive/MyDrive/kaggle.json ~/.kaggle/kaggle.json"
      ],
      "execution_count": 5,
      "outputs": []
    },
    {
      "cell_type": "code",
      "metadata": {
        "id": "66B4OxSRNpHP",
        "colab": {
          "base_uri": "https://localhost:8080/"
        },
        "outputId": "b2b1e9a4-b695-4f80-91b7-37f29f5a86af"
      },
      "source": [
        "!kaggle config set -n path -v{/content}"
      ],
      "execution_count": 6,
      "outputs": [
        {
          "output_type": "stream",
          "text": [
            "- path is now set to: {/content}\n"
          ],
          "name": "stdout"
        }
      ]
    },
    {
      "cell_type": "code",
      "metadata": {
        "id": "J_19gPswNvYJ"
      },
      "source": [
        "!chmod 600 /root/.kaggle/kaggle.json"
      ],
      "execution_count": 7,
      "outputs": []
    },
    {
      "cell_type": "code",
      "metadata": {
        "id": "7XpMRdALNz6m",
        "colab": {
          "base_uri": "https://localhost:8080/"
        },
        "outputId": "2a52527d-022b-4848-a7fa-c10927ce5581"
      },
      "source": [
        "!kaggle datasets list"
      ],
      "execution_count": 8,
      "outputs": [
        {
          "output_type": "stream",
          "text": [
            "Warning: Looks like you're using an outdated API Version, please consider updating (server 1.5.10 / client 1.5.4)\n",
            "ref                                                           title                                                size  lastUpdated          downloadCount  \n",
            "------------------------------------------------------------  --------------------------------------------------  -----  -------------------  -------------  \n",
            "utkarshxy/who-worldhealth-statistics-2020-complete            World Health Statistics 2020|Complete|Geo-Analysis    1MB  2021-01-14 18:29:44           3534  \n",
            "gpreda/pfizer-vaccine-tweets                                  Pfizer Vaccine Tweets                               605KB  2021-01-16 10:45:22           2172  \n",
            "arashnic/covid19-case-surveillance-public-use-dataset         Covid-19 Case Surveillance Public Use Dataset        46MB  2020-12-21 02:24:21           1889  \n",
            "ashkhagan/women-representation-in-city-property-sanfrancisco  Women Representation in City Property SanFrancisco    3KB  2020-12-13 05:18:14            499  \n",
            "google/android-smartphones-high-accuracy-datasets             Android smartphones high accuracy GNSS datasets       1GB  2020-12-23 01:51:11            490  \n",
            "rowhitswami/all-indian-companies-registration-data-1900-2019  Indian Companies Registration Data [1857 - 2020]    112MB  2020-12-12 03:59:01            588  \n",
            "arashnic/mind-news-dataset                                    MIND: Microsoft News Recommendation Dataset          51MB  2020-12-21 00:22:50            199  \n",
            "sakshigoyal7/credit-card-customers                            Credit Card customers                               379KB  2020-11-19 07:38:44          17058  \n",
            "arashnic/hr-analytics-job-change-of-data-scientists           HR Analytics: Job Change of Data Scientists         295KB  2020-12-07 00:25:10           3774  \n",
            "yamaerenay/spotify-dataset-19212020-160k-tracks               Spotify Dataset 1921-2020, 160k+ Tracks              16MB  2020-11-25 21:14:12          15644  \n",
            "sootersaalu/amazon-top-50-bestselling-books-2009-2019         Amazon Top 50 Bestselling Books 2009 - 2019          15KB  2020-10-13 09:39:21          13370  \n",
            "google/tinyquickdraw                                          QuickDraw Sketches                                   11GB  2018-04-18 19:38:04           2726  \n",
            "datasnaek/youtube-new                                         Trending YouTube Video Statistics                   201MB  2019-06-03 00:56:47         123779  \n",
            "zynicide/wine-reviews                                         Wine Reviews                                         51MB  2017-11-27 17:08:04         125578  \n",
            "datasnaek/chess                                               Chess Game Dataset (Lichess)                          3MB  2017-09-04 03:09:09          13535  \n",
            "nasa/kepler-exoplanet-search-results                          Kepler Exoplanet Search Results                       1MB  2017-10-10 18:26:59           5636  \n",
            "rtatman/188-million-us-wildfires                              1.88 Million US Wildfires                           168MB  2020-05-12 21:03:49          12494  \n",
            "residentmario/ramen-ratings                                   Ramen Ratings                                        40KB  2018-01-11 16:04:39          18735  \n",
            "nolanbconaway/pitchfork-data                                  18,393 Pitchfork Reviews                             33MB  2017-01-13 04:18:10           7785  \n",
            "residentmario/things-on-reddit                                Things on Reddit                                     16MB  2017-10-26 14:10:15           6396  \n"
          ],
          "name": "stdout"
        }
      ]
    },
    {
      "cell_type": "code",
      "metadata": {
        "id": "yyGCJNWjN4Qd",
        "colab": {
          "base_uri": "https://localhost:8080/"
        },
        "outputId": "c1eefffa-dfba-4497-ceeb-7eaa786a6823"
      },
      "source": [
        "!kaggle datasets list -s yelp"
      ],
      "execution_count": 9,
      "outputs": [
        {
          "output_type": "stream",
          "text": [
            "Warning: Looks like you're using an outdated API Version, please consider updating (server 1.5.10 / client 1.5.4)\n",
            "ref                                              title                                        size  lastUpdated          downloadCount  \n",
            "-----------------------------------------------  ------------------------------------------  -----  -------------------  -------------  \n",
            "yelp-dataset/yelp-dataset                        Yelp Dataset                                  4GB  2020-03-26 01:13:01          68652  \n",
            "omkarsabnis/yelp-reviews-dataset                 Yelp Reviews Dataset                          3MB  2018-06-03 04:45:50           2621  \n",
            "ilhamfp31/yelp-review-dataset                    Yelp Review Sentiment Dataset               162MB  2020-01-29 06:22:07            237  \n",
            "brkurzawa/us-breweries                           US Breweries                                 76KB  2019-10-02 03:15:27           4138  \n",
            "fireballbyedimyrnmom/yelp-dataset                Yelp dataset                                  4GB  2020-02-14 19:30:25            240  \n",
            "z5025122/yelp-csv                                Yelp CSV                                    353MB  2018-10-18 00:45:36            746  \n",
            "vivekhn/yelp-reviews                             Yelp Reviews                                  3MB  2020-07-18 19:16:11             41  \n",
            "mobasshir/yelpdata                               yelp-data                                   302MB  2020-08-25 12:09:10             48  \n",
            "srcole/burritos-in-san-diego                     Burritos in San Diego                        17KB  2018-01-02 16:05:38           2375  \n",
            "marklvl/sentiment-labelled-sentences-data-set    Sentiment Labelled Sentences Data Set       326KB  2018-04-24 21:20:20           7334  \n",
            "rahulin05/sentiment-labelled-sentences-data-set  Sentiment Labelled Sentences Data Set        80KB  2017-08-31 14:07:09           1588  \n",
            "koki25ando/tabelog-restaurant-review-dataset     Kyoto Restaurant Reviews Dataset             52KB  2018-07-21 09:59:53           1161  \n",
            "luisfredgs/yelp-reviews-csv                      Yelp Reviews CSV                              1GB  2018-09-12 12:06:22           1440  \n",
            "mohit473/yelp-data-set                           Yelp Data Set                                 3MB  2018-03-22 09:34:48            167  \n",
            "rtatman/deceptive-opinion-spam-corpus            Deceptive Opinion Spam Corpus               456KB  2017-07-18 16:31:06           2910  \n",
            "shikhar42/yelps-dataset                          Yelp's Dataset                                2GB  2019-04-01 02:44:35            382  \n",
            "vnxiclaire/bobabayarea                           Boba Shops in the Bay Area                   23KB  2018-02-20 02:04:34            304  \n",
            "irustandi/yelp-review-polarity                   Yelp Review Polarity                        323MB  2019-04-19 02:08:10            346  \n",
            "darshank2019/business                            yelp business csv                            24MB  2019-04-27 05:49:38            357  \n",
            "cipherlab/amazonyelptwittersentiment             Binary Sentiment for Amazon, Twitter, Yelp  191MB  2019-07-11 16:23:00            111  \n"
          ],
          "name": "stdout"
        }
      ]
    },
    {
      "cell_type": "code",
      "metadata": {
        "id": "SRw4cAvhOG7b",
        "colab": {
          "base_uri": "https://localhost:8080/"
        },
        "outputId": "517ae25d-5f57-4519-b865-2bb1d446ac41"
      },
      "source": [
        "!kaggle datasets download -d omkarsabnis/yelp-reviews-dataset   "
      ],
      "execution_count": 10,
      "outputs": [
        {
          "output_type": "stream",
          "text": [
            "Downloading yelp-reviews-dataset.zip to {/content}/datasets/omkarsabnis/yelp-reviews-dataset\n",
            "\r  0% 0.00/3.49M [00:00<?, ?B/s]\n",
            "\r100% 3.49M/3.49M [00:00<00:00, 115MB/s]\n"
          ],
          "name": "stdout"
        }
      ]
    },
    {
      "cell_type": "code",
      "metadata": {
        "id": "-3Ee9EwsSg6R"
      },
      "source": [
        "import shutil\n",
        "shutil.rmtree('/content/{')"
      ],
      "execution_count": 11,
      "outputs": []
    },
    {
      "cell_type": "code",
      "metadata": {
        "id": "DDgze-smOrse",
        "colab": {
          "base_uri": "https://localhost:8080/"
        },
        "outputId": "325f5a46-8e7c-400d-d288-43d8e9337df7"
      },
      "source": [
        "import os\n",
        "os.listdir()"
      ],
      "execution_count": 12,
      "outputs": [
        {
          "output_type": "execute_result",
          "data": {
            "text/plain": [
              "['.config', '.kaggle', 'drive', 'sample_data']"
            ]
          },
          "metadata": {
            "tags": []
          },
          "execution_count": 12
        }
      ]
    },
    {
      "cell_type": "code",
      "metadata": {
        "id": "vsKiAsH1Ty2_"
      },
      "source": [
        "for direc,_,files in os.walk('/content/yelp csv'):\n",
        "  for filename in files:\n",
        "    print(os.path.join(direc,filename))"
      ],
      "execution_count": 13,
      "outputs": []
    },
    {
      "cell_type": "code",
      "metadata": {
        "id": "VUbWWYzjPtkL",
        "colab": {
          "base_uri": "https://localhost:8080/"
        },
        "outputId": "aa5aa049-cc4c-4e5a-bc1c-14ff9fe86498"
      },
      "source": [
        "!unzip /content/{/content}/datasets/omkarsabnis/yelp-reviews-dataset/yelp-reviews-dataset.zip"
      ],
      "execution_count": 14,
      "outputs": [
        {
          "output_type": "stream",
          "text": [
            "unzip:  cannot find or open /content/{/content}/datasets/omkarsabnis/yelp-reviews-dataset/yelp-reviews-dataset.zip, /content/{/content}/datasets/omkarsabnis/yelp-reviews-dataset/yelp-reviews-dataset.zip.zip or /content/{/content}/datasets/omkarsabnis/yelp-reviews-dataset/yelp-reviews-dataset.zip.ZIP.\n"
          ],
          "name": "stdout"
        }
      ]
    },
    {
      "cell_type": "code",
      "metadata": {
        "id": "iJgM6jCtuenD",
        "colab": {
          "base_uri": "https://localhost:8080/"
        },
        "outputId": "a951a094-da96-4a12-a2d0-5c3fcf04e6cb"
      },
      "source": [
        "import os\n",
        "os.listdir('/root')"
      ],
      "execution_count": 15,
      "outputs": [
        {
          "output_type": "execute_result",
          "data": {
            "text/plain": [
              "['.bashrc',\n",
              " '.profile',\n",
              " '.keras',\n",
              " '.kaggle',\n",
              " '.local',\n",
              " '.config',\n",
              " '.tmux.conf',\n",
              " '.npm',\n",
              " '.jupyter',\n",
              " '.cache',\n",
              " '.ipython',\n",
              " '.gsutil']"
            ]
          },
          "metadata": {
            "tags": []
          },
          "execution_count": 15
        }
      ]
    },
    {
      "cell_type": "code",
      "metadata": {
        "id": "gZIv1LCvY-Mb"
      },
      "source": [
        "import pandas as pd\n",
        "import numpy as np\n",
        "df=pd.read_csv(\"/content/drive/My Drive/yelp.csv\")\n",
        "df.head()"
      ],
      "execution_count": null,
      "outputs": []
    },
    {
      "cell_type": "code",
      "metadata": {
        "id": "USyqgilWKi0V"
      },
      "source": [
        "df.columns"
      ],
      "execution_count": null,
      "outputs": []
    },
    {
      "cell_type": "code",
      "metadata": {
        "id": "n0JApYQzT-Y6"
      },
      "source": [
        "df['text'][0]"
      ],
      "execution_count": null,
      "outputs": []
    },
    {
      "cell_type": "code",
      "metadata": {
        "id": "zVgtCqVgUPJ-"
      },
      "source": [
        "print(df['cool'].unique(),df['useful'].unique(),df['funny'].unique(),df['type'].unique())"
      ],
      "execution_count": null,
      "outputs": []
    },
    {
      "cell_type": "code",
      "metadata": {
        "id": "-JOQGkShU2D_"
      },
      "source": [
        "df=df[['text', 'stars' , 'cool', 'useful', 'funny']]"
      ],
      "execution_count": null,
      "outputs": []
    },
    {
      "cell_type": "code",
      "metadata": {
        "id": "mPYN-Hj7Vt62"
      },
      "source": [
        "df.head()"
      ],
      "execution_count": null,
      "outputs": []
    },
    {
      "cell_type": "code",
      "metadata": {
        "id": "Ar4g4VbEZ6EO"
      },
      "source": [
        "df['stars'].unique()"
      ],
      "execution_count": null,
      "outputs": []
    },
    {
      "cell_type": "code",
      "metadata": {
        "id": "idJgNktmVvsW"
      },
      "source": [
        "df.info()"
      ],
      "execution_count": null,
      "outputs": []
    },
    {
      "cell_type": "code",
      "metadata": {
        "id": "pWGYs3JBWLgo"
      },
      "source": [
        "#model 1 for sentiment analysis (positive or negative)\n",
        "\n",
        "df1=df[['text','stars']]"
      ],
      "execution_count": null,
      "outputs": []
    },
    {
      "cell_type": "code",
      "metadata": {
        "id": "oPsL1y9JbLG1"
      },
      "source": [
        "df1['stars']=df1['stars'].replace(to_replace =[1,2,3] , \n",
        "                 value =0) "
      ],
      "execution_count": null,
      "outputs": []
    },
    {
      "cell_type": "code",
      "metadata": {
        "id": "49mZn7mWYh-5"
      },
      "source": [
        "df1['stars']=df1['stars'].replace(to_replace =[4,5] , \n",
        "                 value =1) \n"
      ],
      "execution_count": null,
      "outputs": []
    },
    {
      "cell_type": "code",
      "metadata": {
        "id": "DXCPdYaxZgh7"
      },
      "source": [
        "df1.head()"
      ],
      "execution_count": null,
      "outputs": []
    },
    {
      "cell_type": "code",
      "metadata": {
        "id": "8RsfHUVIaRSy"
      },
      "source": [
        "df1['stars'].unique()"
      ],
      "execution_count": null,
      "outputs": []
    },
    {
      "cell_type": "code",
      "metadata": {
        "id": "JE5UfGolag58"
      },
      "source": [
        "len(df1[df1['stars']==0])"
      ],
      "execution_count": null,
      "outputs": []
    },
    {
      "cell_type": "code",
      "metadata": {
        "id": "pZO1C7UkeO6L"
      },
      "source": [
        "x=[]\n",
        "\n",
        "for i in df1['text']:\n",
        "  x.append(i)\n",
        "\n",
        "y=df1['stars'].values"
      ],
      "execution_count": null,
      "outputs": []
    },
    {
      "cell_type": "code",
      "metadata": {
        "id": "6nAuUv5_ew7m"
      },
      "source": [
        "len(x),len(y)"
      ],
      "execution_count": null,
      "outputs": []
    },
    {
      "cell_type": "code",
      "metadata": {
        "id": "tRLJF_cle570"
      },
      "source": [
        "import tensorflow as tf\n",
        "import numpy as np\n",
        "import matplotlib.pyplot as plt\n",
        "\n",
        "\n",
        "from tensorflow.keras.layers import Dense,Embedding,LSTM,Dropout,GlobalMaxPooling1D\n",
        "from tensorflow.keras.models import Sequential\n",
        "from tensorflow.keras.preprocessing.text import Tokenizer\n",
        "from tensorflow.keras.preprocessing.sequence import pad_sequences\n",
        "from tensorflow.keras.callbacks import ModelCheckpoint"
      ],
      "execution_count": null,
      "outputs": []
    },
    {
      "cell_type": "code",
      "metadata": {
        "id": "prqciKm1lfWq"
      },
      "source": [
        "tokenizer=Tokenizer()\n",
        "tokenizer.fit_on_texts(x)\n",
        "sequences=tokenizer.texts_to_sequences(x)\n",
        "x_pad=pad_sequences(sequences,maxlen=200)\n",
        "vocab_size=len(tokenizer.word_index)\n"
      ],
      "execution_count": null,
      "outputs": []
    },
    {
      "cell_type": "code",
      "metadata": {
        "id": "eAgiocu8vspZ"
      },
      "source": [
        "word=tokenizer.word_index\n",
        "print(word)"
      ],
      "execution_count": null,
      "outputs": []
    },
    {
      "cell_type": "code",
      "metadata": {
        "id": "cTEr4xl7mdw7"
      },
      "source": [
        "type(y)"
      ],
      "execution_count": null,
      "outputs": []
    },
    {
      "cell_type": "code",
      "metadata": {
        "id": "J_f4Lpx02gPh"
      },
      "source": [
        "y"
      ],
      "execution_count": null,
      "outputs": []
    },
    {
      "cell_type": "code",
      "metadata": {
        "id": "TFOpnWWTuUDb"
      },
      "source": [
        "train_size=7000\n",
        "\n",
        "x_pad_train=x_pad[:train_size]\n",
        "y_train=y[:train_size]\n",
        "x_pad_test=x_pad[train_size:]\n",
        "y_test=y[train_size:]"
      ],
      "execution_count": null,
      "outputs": []
    },
    {
      "cell_type": "code",
      "metadata": {
        "id": "j1jJCoUcmgXc"
      },
      "source": [
        "#model architecture\n",
        "\n",
        "T=x_pad_train.shape[1]\n",
        "model=Sequential()\n",
        "model.add(Embedding(vocab_size+1,64,input_length=T))\n",
        "model.add(LSTM(32,return_sequences=True))\n",
        "model.add(GlobalMaxPooling1D())\n",
        "model.add(Dense(1,activation='sigmoid'))\n",
        "\n",
        "model.compile(optimizer='adam',loss='binary_crossentropy',metrics=['accuracy'])\n",
        "\n",
        "model.summary()"
      ],
      "execution_count": null,
      "outputs": []
    },
    {
      "cell_type": "code",
      "metadata": {
        "id": "wBZ78idnxbXQ"
      },
      "source": [
        "var=ModelCheckpoint('/content/model_weights.h5',save_weights_only=True,verbose=1)\n",
        "\n",
        "r=model.fit(x_pad_train,y_train,validation_data=(x_pad_test,y_test),epochs=10,callbacks=[var])"
      ],
      "execution_count": null,
      "outputs": []
    },
    {
      "cell_type": "code",
      "metadata": {
        "id": "FpFuT56_vZ0G"
      },
      "source": [
        "model.save('/content/drive/My Drive/my_model')"
      ],
      "execution_count": null,
      "outputs": []
    },
    {
      "cell_type": "code",
      "metadata": {
        "id": "FhWvZcXL1p2Z"
      },
      "source": [
        "x_pad_train[0]"
      ],
      "execution_count": null,
      "outputs": []
    },
    {
      "cell_type": "code",
      "metadata": {
        "id": "F42K7fPg1reB"
      },
      "source": [
        "#predictions\n",
        "x_pad_ex=x_pad_test.reshape(3000,T,1)\n",
        "x_pad_ex.shape"
      ],
      "execution_count": null,
      "outputs": []
    },
    {
      "cell_type": "code",
      "metadata": {
        "id": "QgP450dvAz8E"
      },
      "source": [
        "x_pad_test[0].shape"
      ],
      "execution_count": null,
      "outputs": []
    },
    {
      "cell_type": "code",
      "metadata": {
        "id": "zVTGN3KP-_fY"
      },
      "source": [
        "pred=model.predict(x_pad_ex)"
      ],
      "execution_count": null,
      "outputs": []
    },
    {
      "cell_type": "code",
      "metadata": {
        "id": "Pq2qGv9GBubG"
      },
      "source": [
        "pred[7][0]"
      ],
      "execution_count": null,
      "outputs": []
    },
    {
      "cell_type": "code",
      "metadata": {
        "id": "fPjCcmlZCln-"
      },
      "source": [
        ""
      ],
      "execution_count": 21,
      "outputs": []
    }
  ]
}